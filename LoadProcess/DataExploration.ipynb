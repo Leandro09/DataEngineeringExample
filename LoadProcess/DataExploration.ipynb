{
 "cells": [
  {
   "cell_type": "markdown",
   "id": "a3d3e930",
   "metadata": {},
   "source": [
    "# Data exploration"
   ]
  },
  {
   "cell_type": "code",
   "execution_count": 44,
   "id": "d8b80055",
   "metadata": {},
   "outputs": [],
   "source": [
    "#import packages\n",
    "import pandas as pd\n",
    "import json"
   ]
  },
  {
   "cell_type": "code",
   "execution_count": 2,
   "id": "7062dcf3",
   "metadata": {},
   "outputs": [],
   "source": [
    "#read file \n",
    "dataframe = pd.read_csv(\"data.csv\")"
   ]
  },
  {
   "cell_type": "code",
   "execution_count": 3,
   "id": "beeb85b6",
   "metadata": {},
   "outputs": [
    {
     "data": {
      "text/html": [
       "<div>\n",
       "<style scoped>\n",
       "    .dataframe tbody tr th:only-of-type {\n",
       "        vertical-align: middle;\n",
       "    }\n",
       "\n",
       "    .dataframe tbody tr th {\n",
       "        vertical-align: top;\n",
       "    }\n",
       "\n",
       "    .dataframe thead th {\n",
       "        text-align: right;\n",
       "    }\n",
       "</style>\n",
       "<table border=\"1\" class=\"dataframe\">\n",
       "  <thead>\n",
       "    <tr style=\"text-align: right;\">\n",
       "      <th></th>\n",
       "      <th>Unnamed: 0</th>\n",
       "      <th>start</th>\n",
       "      <th>duration</th>\n",
       "      <th>channels</th>\n",
       "    </tr>\n",
       "  </thead>\n",
       "  <tbody>\n",
       "    <tr>\n",
       "      <th>0</th>\n",
       "      <td>0</td>\n",
       "      <td>Jun 30, 2022, 12:12</td>\n",
       "      <td>270,659</td>\n",
       "      <td>[{\"guid\": \"0181b486-ce5d-e475-05ce-e322c41d298...</td>\n",
       "    </tr>\n",
       "    <tr>\n",
       "      <th>1</th>\n",
       "      <td>1</td>\n",
       "      <td>Jun 30, 2022, 12:11</td>\n",
       "      <td>56,081</td>\n",
       "      <td>[{\"guid\": \"0181b485-d2a1-8f93-4436-7c465aa02bb...</td>\n",
       "    </tr>\n",
       "    <tr>\n",
       "      <th>2</th>\n",
       "      <td>2</td>\n",
       "      <td>Jun 30, 2022, 11:02</td>\n",
       "      <td>332,236</td>\n",
       "      <td>[{\"guid\": \"0181b447-2962-5f42-4243-cc8c98faa3e...</td>\n",
       "    </tr>\n",
       "    <tr>\n",
       "      <th>3</th>\n",
       "      <td>3</td>\n",
       "      <td>Jun 28, 2022, 15:18</td>\n",
       "      <td>342,670</td>\n",
       "      <td>[{\"guid\": \"0181aae4-45e3-c858-c790-b8b625f7c6c...</td>\n",
       "    </tr>\n",
       "    <tr>\n",
       "      <th>4</th>\n",
       "      <td>4</td>\n",
       "      <td>Jun 27, 2022, 12:22</td>\n",
       "      <td>635,561</td>\n",
       "      <td>[{\"guid\": \"0181a51c-fb0d-3a7a-c2cf-e21ab551e5c...</td>\n",
       "    </tr>\n",
       "  </tbody>\n",
       "</table>\n",
       "</div>"
      ],
      "text/plain": [
       "   Unnamed: 0                start duration  \\\n",
       "0           0  Jun 30, 2022, 12:12  270,659   \n",
       "1           1  Jun 30, 2022, 12:11   56,081   \n",
       "2           2  Jun 30, 2022, 11:02  332,236   \n",
       "3           3  Jun 28, 2022, 15:18  342,670   \n",
       "4           4  Jun 27, 2022, 12:22  635,561   \n",
       "\n",
       "                                            channels  \n",
       "0  [{\"guid\": \"0181b486-ce5d-e475-05ce-e322c41d298...  \n",
       "1  [{\"guid\": \"0181b485-d2a1-8f93-4436-7c465aa02bb...  \n",
       "2  [{\"guid\": \"0181b447-2962-5f42-4243-cc8c98faa3e...  \n",
       "3  [{\"guid\": \"0181aae4-45e3-c858-c790-b8b625f7c6c...  \n",
       "4  [{\"guid\": \"0181a51c-fb0d-3a7a-c2cf-e21ab551e5c...  "
      ]
     },
     "execution_count": 3,
     "metadata": {},
     "output_type": "execute_result"
    }
   ],
   "source": [
    "#display data\n",
    "dataframe.head()"
   ]
  },
  {
   "cell_type": "code",
   "execution_count": 17,
   "id": "48f99949",
   "metadata": {},
   "outputs": [
    {
     "data": {
      "text/plain": [
       "(1860, 7)"
      ]
     },
     "execution_count": 17,
     "metadata": {},
     "output_type": "execute_result"
    }
   ],
   "source": [
    "# check dimensions about data\n",
    "dataframe.shape"
   ]
  },
  {
   "cell_type": "code",
   "execution_count": 4,
   "id": "e6301fb3",
   "metadata": {},
   "outputs": [
    {
     "data": {
      "text/plain": [
       "Unnamed: 0     int64\n",
       "start         object\n",
       "duration      object\n",
       "channels      object\n",
       "dtype: object"
      ]
     },
     "execution_count": 4,
     "metadata": {},
     "output_type": "execute_result"
    }
   ],
   "source": [
    "# check data types\n",
    "dataframe.dtypes"
   ]
  },
  {
   "cell_type": "markdown",
   "id": "45a12169",
   "metadata": {},
   "source": [
    "we need to pay attention about duration and start data types"
   ]
  },
  {
   "cell_type": "code",
   "execution_count": 5,
   "id": "6c8653ce",
   "metadata": {},
   "outputs": [
    {
     "data": {
      "text/plain": [
       "Unnamed: 0    0.0\n",
       "start         0.0\n",
       "duration      0.0\n",
       "channels      0.0\n",
       "dtype: float64"
      ]
     },
     "execution_count": 5,
     "metadata": {},
     "output_type": "execute_result"
    }
   ],
   "source": [
    "dataframe.isnull().mean() * 100"
   ]
  },
  {
   "cell_type": "markdown",
   "id": "acafad26",
   "metadata": {},
   "source": [
    "There are not missing values"
   ]
  },
  {
   "cell_type": "code",
   "execution_count": 8,
   "id": "934821a4",
   "metadata": {},
   "outputs": [
    {
     "data": {
      "text/plain": [
       "0"
      ]
     },
     "execution_count": 8,
     "metadata": {},
     "output_type": "execute_result"
    }
   ],
   "source": [
    "sum(dataframe.duplicated())"
   ]
  },
  {
   "cell_type": "markdown",
   "id": "c2f14101",
   "metadata": {},
   "source": [
    "There are not duplicates"
   ]
  },
  {
   "cell_type": "code",
   "execution_count": 12,
   "id": "1aa62225",
   "metadata": {},
   "outputs": [],
   "source": [
    "#we can split values in start field to get day, year and hour\n",
    "dataframe[['Day', 'Year',\"Hour\"]]  = dataframe['start'].str.split(',', expand=True)"
   ]
  },
  {
   "cell_type": "code",
   "execution_count": 13,
   "id": "e97506c3",
   "metadata": {},
   "outputs": [
    {
     "data": {
      "text/html": [
       "<div>\n",
       "<style scoped>\n",
       "    .dataframe tbody tr th:only-of-type {\n",
       "        vertical-align: middle;\n",
       "    }\n",
       "\n",
       "    .dataframe tbody tr th {\n",
       "        vertical-align: top;\n",
       "    }\n",
       "\n",
       "    .dataframe thead th {\n",
       "        text-align: right;\n",
       "    }\n",
       "</style>\n",
       "<table border=\"1\" class=\"dataframe\">\n",
       "  <thead>\n",
       "    <tr style=\"text-align: right;\">\n",
       "      <th></th>\n",
       "      <th>Unnamed: 0</th>\n",
       "      <th>start</th>\n",
       "      <th>duration</th>\n",
       "      <th>channels</th>\n",
       "      <th>Day</th>\n",
       "      <th>Year</th>\n",
       "      <th>Hour</th>\n",
       "    </tr>\n",
       "  </thead>\n",
       "  <tbody>\n",
       "    <tr>\n",
       "      <th>0</th>\n",
       "      <td>0</td>\n",
       "      <td>Jun 30, 2022, 12:12</td>\n",
       "      <td>270,659</td>\n",
       "      <td>[{\"guid\": \"0181b486-ce5d-e475-05ce-e322c41d298...</td>\n",
       "      <td>Jun 30</td>\n",
       "      <td>2022</td>\n",
       "      <td>12:12</td>\n",
       "    </tr>\n",
       "    <tr>\n",
       "      <th>1</th>\n",
       "      <td>1</td>\n",
       "      <td>Jun 30, 2022, 12:11</td>\n",
       "      <td>56,081</td>\n",
       "      <td>[{\"guid\": \"0181b485-d2a1-8f93-4436-7c465aa02bb...</td>\n",
       "      <td>Jun 30</td>\n",
       "      <td>2022</td>\n",
       "      <td>12:11</td>\n",
       "    </tr>\n",
       "    <tr>\n",
       "      <th>2</th>\n",
       "      <td>2</td>\n",
       "      <td>Jun 30, 2022, 11:02</td>\n",
       "      <td>332,236</td>\n",
       "      <td>[{\"guid\": \"0181b447-2962-5f42-4243-cc8c98faa3e...</td>\n",
       "      <td>Jun 30</td>\n",
       "      <td>2022</td>\n",
       "      <td>11:02</td>\n",
       "    </tr>\n",
       "    <tr>\n",
       "      <th>3</th>\n",
       "      <td>3</td>\n",
       "      <td>Jun 28, 2022, 15:18</td>\n",
       "      <td>342,670</td>\n",
       "      <td>[{\"guid\": \"0181aae4-45e3-c858-c790-b8b625f7c6c...</td>\n",
       "      <td>Jun 28</td>\n",
       "      <td>2022</td>\n",
       "      <td>15:18</td>\n",
       "    </tr>\n",
       "    <tr>\n",
       "      <th>4</th>\n",
       "      <td>4</td>\n",
       "      <td>Jun 27, 2022, 12:22</td>\n",
       "      <td>635,561</td>\n",
       "      <td>[{\"guid\": \"0181a51c-fb0d-3a7a-c2cf-e21ab551e5c...</td>\n",
       "      <td>Jun 27</td>\n",
       "      <td>2022</td>\n",
       "      <td>12:22</td>\n",
       "    </tr>\n",
       "    <tr>\n",
       "      <th>...</th>\n",
       "      <td>...</td>\n",
       "      <td>...</td>\n",
       "      <td>...</td>\n",
       "      <td>...</td>\n",
       "      <td>...</td>\n",
       "      <td>...</td>\n",
       "      <td>...</td>\n",
       "    </tr>\n",
       "    <tr>\n",
       "      <th>1855</th>\n",
       "      <td>1855</td>\n",
       "      <td>May 25, 2018, 08:06</td>\n",
       "      <td>225,132</td>\n",
       "      <td>[{\"guid\": \"01639655-8078-a814-36ba-47aae10779d...</td>\n",
       "      <td>May 25</td>\n",
       "      <td>2018</td>\n",
       "      <td>08:06</td>\n",
       "    </tr>\n",
       "    <tr>\n",
       "      <th>1856</th>\n",
       "      <td>1856</td>\n",
       "      <td>May 25, 2018, 08:01</td>\n",
       "      <td>366,863</td>\n",
       "      <td>[{\"guid\": \"01639651-5ad5-4450-fdce-8447c39a09c...</td>\n",
       "      <td>May 25</td>\n",
       "      <td>2018</td>\n",
       "      <td>08:01</td>\n",
       "    </tr>\n",
       "    <tr>\n",
       "      <th>1857</th>\n",
       "      <td>1857</td>\n",
       "      <td>Mar 2, 2018, 11:25</td>\n",
       "      <td>216,969</td>\n",
       "      <td>[{\"guid\": \"0161e675-eac8-504a-f25e-b5b67ec0819...</td>\n",
       "      <td>Mar 2</td>\n",
       "      <td>2018</td>\n",
       "      <td>11:25</td>\n",
       "    </tr>\n",
       "    <tr>\n",
       "      <th>1858</th>\n",
       "      <td>1858</td>\n",
       "      <td>Mar 2, 2018, 11:24</td>\n",
       "      <td>25,777</td>\n",
       "      <td>[{\"guid\": \"0161e675-2de9-8488-ef7d-e411692b5ef...</td>\n",
       "      <td>Mar 2</td>\n",
       "      <td>2018</td>\n",
       "      <td>11:24</td>\n",
       "    </tr>\n",
       "    <tr>\n",
       "      <th>1859</th>\n",
       "      <td>1859</td>\n",
       "      <td>Mar 2, 2018, 11:17</td>\n",
       "      <td>137,507</td>\n",
       "      <td>[{\"guid\": \"0161e66e-538f-0bed-ae50-6d4475c5aeb...</td>\n",
       "      <td>Mar 2</td>\n",
       "      <td>2018</td>\n",
       "      <td>11:17</td>\n",
       "    </tr>\n",
       "  </tbody>\n",
       "</table>\n",
       "<p>1860 rows × 7 columns</p>\n",
       "</div>"
      ],
      "text/plain": [
       "      Unnamed: 0                start duration  \\\n",
       "0              0  Jun 30, 2022, 12:12  270,659   \n",
       "1              1  Jun 30, 2022, 12:11   56,081   \n",
       "2              2  Jun 30, 2022, 11:02  332,236   \n",
       "3              3  Jun 28, 2022, 15:18  342,670   \n",
       "4              4  Jun 27, 2022, 12:22  635,561   \n",
       "...          ...                  ...      ...   \n",
       "1855        1855  May 25, 2018, 08:06  225,132   \n",
       "1856        1856  May 25, 2018, 08:01  366,863   \n",
       "1857        1857   Mar 2, 2018, 11:25  216,969   \n",
       "1858        1858   Mar 2, 2018, 11:24   25,777   \n",
       "1859        1859   Mar 2, 2018, 11:17  137,507   \n",
       "\n",
       "                                               channels     Day   Year    Hour  \n",
       "0     [{\"guid\": \"0181b486-ce5d-e475-05ce-e322c41d298...  Jun 30   2022   12:12  \n",
       "1     [{\"guid\": \"0181b485-d2a1-8f93-4436-7c465aa02bb...  Jun 30   2022   12:11  \n",
       "2     [{\"guid\": \"0181b447-2962-5f42-4243-cc8c98faa3e...  Jun 30   2022   11:02  \n",
       "3     [{\"guid\": \"0181aae4-45e3-c858-c790-b8b625f7c6c...  Jun 28   2022   15:18  \n",
       "4     [{\"guid\": \"0181a51c-fb0d-3a7a-c2cf-e21ab551e5c...  Jun 27   2022   12:22  \n",
       "...                                                 ...     ...    ...     ...  \n",
       "1855  [{\"guid\": \"01639655-8078-a814-36ba-47aae10779d...  May 25   2018   08:06  \n",
       "1856  [{\"guid\": \"01639651-5ad5-4450-fdce-8447c39a09c...  May 25   2018   08:01  \n",
       "1857  [{\"guid\": \"0161e675-eac8-504a-f25e-b5b67ec0819...   Mar 2   2018   11:25  \n",
       "1858  [{\"guid\": \"0161e675-2de9-8488-ef7d-e411692b5ef...   Mar 2   2018   11:24  \n",
       "1859  [{\"guid\": \"0161e66e-538f-0bed-ae50-6d4475c5aeb...   Mar 2   2018   11:17  \n",
       "\n",
       "[1860 rows x 7 columns]"
      ]
     },
     "execution_count": 13,
     "metadata": {},
     "output_type": "execute_result"
    }
   ],
   "source": [
    "#display new columns\n",
    "dataframe"
   ]
  },
  {
   "cell_type": "code",
   "execution_count": 15,
   "id": "f25bf64f",
   "metadata": {},
   "outputs": [],
   "source": [
    "# remove \",\" symbol to store duration as numeric field\n",
    "dataframe['duration']=dataframe['duration'].str.replace(',','')"
   ]
  },
  {
   "cell_type": "code",
   "execution_count": 16,
   "id": "eacbfd0c",
   "metadata": {},
   "outputs": [
    {
     "data": {
      "text/plain": [
       "0       270659\n",
       "1        56081\n",
       "2       332236\n",
       "3       342670\n",
       "4       635561\n",
       "         ...  \n",
       "1855    225132\n",
       "1856    366863\n",
       "1857    216969\n",
       "1858     25777\n",
       "1859    137507\n",
       "Name: duration, Length: 1860, dtype: int64"
      ]
     },
     "execution_count": 16,
     "metadata": {},
     "output_type": "execute_result"
    }
   ],
   "source": [
    "# display sample about duration field\n",
    "pd.to_numeric(dataframe[\"duration\"])"
   ]
  },
  {
   "cell_type": "code",
   "execution_count": 24,
   "id": "b3b329fb",
   "metadata": {},
   "outputs": [
    {
     "data": {
      "text/plain": [
       "Feb 21    26\n",
       "Mar 17    24\n",
       "Mar 18    22\n",
       "Nov 30    21\n",
       "Nov 23    20\n",
       "Nov 24    20\n",
       "Dec 1     20\n",
       "Oct 29    20\n",
       "Oct 15    17\n",
       "Nov 5     17\n",
       "Mar 12    17\n",
       "Jun 5     16\n",
       "Mar 14    16\n",
       "Nov 12    16\n",
       "Mar 4     16\n",
       "Jul 16    15\n",
       "Jun 7     15\n",
       "Dec 4     14\n",
       "Mar 16    14\n",
       "Nov 19    14\n",
       "Name: Day, dtype: int64"
      ]
     },
     "execution_count": 24,
     "metadata": {},
     "output_type": "execute_result"
    }
   ],
   "source": [
    "#display records quantity by day and month\n",
    "dataframe['Day'].value_counts()[:20]"
   ]
  },
  {
   "cell_type": "code",
   "execution_count": 26,
   "id": "5a80cbb5",
   "metadata": {},
   "outputs": [
    {
     "data": {
      "text/plain": [
       " 2020    702\n",
       " 2019    561\n",
       " 2018    256\n",
       "Name: Year, dtype: int64"
      ]
     },
     "execution_count": 26,
     "metadata": {},
     "output_type": "execute_result"
    }
   ],
   "source": [
    "#display records by year\n",
    "dataframe['Year'].value_counts()[:3]"
   ]
  },
  {
   "cell_type": "code",
   "execution_count": 61,
   "id": "61174b56",
   "metadata": {},
   "outputs": [],
   "source": [
    "dataframe['duration'] = pd.to_numeric(dataframe['duration'])"
   ]
  },
  {
   "cell_type": "code",
   "execution_count": 62,
   "id": "2d433aea",
   "metadata": {},
   "outputs": [
    {
     "data": {
      "text/plain": [
       "61907867"
      ]
     },
     "execution_count": 62,
     "metadata": {},
     "output_type": "execute_result"
    }
   ],
   "source": [
    "#get max duration \n",
    "dataframe[\"duration\"].max()"
   ]
  },
  {
   "cell_type": "code",
   "execution_count": 63,
   "id": "562e1295",
   "metadata": {},
   "outputs": [
    {
     "data": {
      "text/plain": [
       "6711"
      ]
     },
     "execution_count": 63,
     "metadata": {},
     "output_type": "execute_result"
    }
   ],
   "source": [
    "#get min duration\n",
    "dataframe[\"duration\"].min()"
   ]
  },
  {
   "cell_type": "code",
   "execution_count": 47,
   "id": "f305f7c5",
   "metadata": {},
   "outputs": [],
   "source": [
    "#count calls, we need to convert from string to array to count elements\n",
    "dataframe['countChannels'] = dataframe['channels'].apply(json.loads).apply(len)"
   ]
  },
  {
   "cell_type": "code",
   "execution_count": 52,
   "id": "c10f1e1e",
   "metadata": {},
   "outputs": [
    {
     "data": {
      "text/plain": [
       "2    1851\n",
       "3       9\n",
       "Name: countChannels, dtype: int64"
      ]
     },
     "execution_count": 52,
     "metadata": {},
     "output_type": "execute_result"
    }
   ],
   "source": [
    "#count frecuency of calls\n",
    "dataframe['countChannels'].value_counts()[:3]"
   ]
  },
  {
   "cell_type": "markdown",
   "id": "8d952204",
   "metadata": {},
   "source": [
    "In this case We have more frequently 2 calls for each record"
   ]
  },
  {
   "cell_type": "code",
   "execution_count": 58,
   "id": "6a020314",
   "metadata": {},
   "outputs": [
    {
     "data": {
      "text/plain": [
       "Year\n",
       " 2018     517\n",
       " 2019    1126\n",
       " 2020    1404\n",
       " 2021     442\n",
       " 2022     240\n",
       "Name: countChannels, dtype: int64"
      ]
     },
     "execution_count": 58,
     "metadata": {},
     "output_type": "execute_result"
    }
   ],
   "source": [
    "get the amount of calls by year\n",
    "dataframe.groupby(['Year'])['countChannels'].sum()"
   ]
  }
 ],
 "metadata": {
  "kernelspec": {
   "display_name": "Python 3",
   "language": "python",
   "name": "python3"
  },
  "language_info": {
   "codemirror_mode": {
    "name": "ipython",
    "version": 3
   },
   "file_extension": ".py",
   "mimetype": "text/x-python",
   "name": "python",
   "nbconvert_exporter": "python",
   "pygments_lexer": "ipython3",
   "version": "3.8.8"
  }
 },
 "nbformat": 4,
 "nbformat_minor": 5
}
